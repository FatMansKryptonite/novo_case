{
 "cells": [
  {
   "cell_type": "markdown",
   "metadata": {},
   "source": [
    "# Data Cleaning"
   ]
  },
  {
   "cell_type": "code",
   "execution_count": 8,
   "metadata": {},
   "outputs": [],
   "source": [
    "import os\n",
    "import pandas as pd\n",
    "from ydata_profiling import ProfileReport"
   ]
  },
  {
   "cell_type": "markdown",
   "metadata": {},
   "source": [
    "### Read in data from file\n",
    "The `trial_classes.xlsx` file has been enriched with additional multiclass labels identifying some characteristics of the trials."
   ]
  },
  {
   "cell_type": "code",
   "execution_count": 6,
   "metadata": {},
   "outputs": [],
   "source": [
    "data_directory = 'data'\n",
    "\n",
    "data_dict = {}\n",
    "for file_name in os.listdir(data_directory):\n",
    "    file_path = os.path.join(data_directory, file_name)\n",
    "\n",
    "    file_type = file_path.split('.')[-1]\n",
    "    name = file_name.split('.')[0]\n",
    "    if file_type == 'parquet':\n",
    "        data_dict[name] = pd.read_parquet(file_path)\n",
    "    elif file_type == 'xlsx':\n",
    "        data_dict[name] = pd.read_excel(file_path)"
   ]
  },
  {
   "cell_type": "markdown",
   "metadata": {},
   "source": [
    "---\n",
    "### Create data profile reports"
   ]
  },
  {
   "cell_type": "code",
   "execution_count": null,
   "metadata": {},
   "outputs": [],
   "source": [
    "for key, df in data_dict.items():\n",
    "    prof = ProfileReport(df)\n",
    "    prof.to_file(output_file=f'profiles/{key}.html')"
   ]
  },
  {
   "cell_type": "markdown",
   "metadata": {},
   "source": [
    "---\n",
    "# Notes\n",
    "\n",
    "### Country\n",
    "- A lot of missing data\n",
    "    - Some columns are almost completely missing\n",
    "    - Many columns have roughly 50 % missing data\n",
    "    - -> **We need to choose a methodology robust to missing data**\n",
    "- Multicollinearity\n",
    "    - Many variables display a correlation with one another\n",
    "    - -> **We might need to do some PCA**\n",
    "\n",
    "### Target\n",
    "- Multicollinearity\n",
    "    - `no_of_patients` is highly correlated with `enrolment_months` (0.720). This is unsurprising as more time spent finding patients leads to more patients found. The reason more time is spent can be due to many reasons but likely due to funding.\n",
    "    - -> **This suggests that a reasonable metric for \"goodness\" could be `efficiency = no_of_patients / enrolment_months`**\n",
    "    - The measure of efficiency will vary depending on how common certain diseases are in different locations or which sites have been part of previous studies. This is, in a sense, what we are trying to predict.\n",
    "- Zeros\n",
    "    - A lot of sites managed to gather no patients for some trials (5.9 %)\n",
    "\n",
    "### Trial\n",
    "- Trials are significantly different in what they are measuring \n",
    "    - Some are heavily focused on ensuring patients have given \"informed consent\" (even though this is always required?)\n",
    "    - Some focus on obesity and weight change\n",
    "    - Some on Cardiovascular issues\n",
    "    - -> **There are not enough different trials to go full on NLP here and try to fine-tune a language model. Instead we elect a more manual approach of creating multi-class labels for the trials. These explain, on a high level, what the trials involve.**\n",
    "    - A quick google search leads me to believe that this is public data, [link](https://ctv.veeva.com/), so GPT will be consulted to create classes.\n",
    "- `maximum_age`\n",
    "    - Zeroes seem to signify missing information\n",
    "    - Values that do exist also seem to be placeholders without much consideration to what impact they will have on the trial or gathering of patients (e.g. 99, 100, 130).\n",
    "    - -> **Drop column**\n",
    "\n",
    "### Trial site\n",
    "- Profile shows no warnings"
   ]
  }
 ],
 "metadata": {
  "kernelspec": {
   "display_name": "Python 3",
   "language": "python",
   "name": "python3"
  },
  "language_info": {
   "codemirror_mode": {
    "name": "ipython",
    "version": 3
   },
   "file_extension": ".py",
   "mimetype": "text/x-python",
   "name": "python",
   "nbconvert_exporter": "python",
   "pygments_lexer": "ipython3",
   "version": "3.11.1"
  }
 },
 "nbformat": 4,
 "nbformat_minor": 2
}
